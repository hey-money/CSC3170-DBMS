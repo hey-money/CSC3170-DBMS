{
 "cells": [
  {
   "cell_type": "code",
   "execution_count": 1,
   "metadata": {},
   "outputs": [],
   "source": [
    "import sql_tools\n",
    "import pandas as pd"
   ]
  },
  {
   "cell_type": "code",
   "execution_count": 2,
   "metadata": {},
   "outputs": [
    {
     "data": {
      "text/html": [
       "<div>\n",
       "<style scoped>\n",
       "    .dataframe tbody tr th:only-of-type {\n",
       "        vertical-align: middle;\n",
       "    }\n",
       "\n",
       "    .dataframe tbody tr th {\n",
       "        vertical-align: top;\n",
       "    }\n",
       "\n",
       "    .dataframe thead th {\n",
       "        text-align: right;\n",
       "    }\n",
       "</style>\n",
       "<table border=\"1\" class=\"dataframe\">\n",
       "  <thead>\n",
       "    <tr style=\"text-align: right;\">\n",
       "      <th></th>\n",
       "      <th>0</th>\n",
       "      <th>1</th>\n",
       "      <th>2</th>\n",
       "      <th>3</th>\n",
       "      <th>4</th>\n",
       "      <th>5</th>\n",
       "      <th>6</th>\n",
       "    </tr>\n",
       "  </thead>\n",
       "  <tbody>\n",
       "    <tr>\n",
       "      <th>0</th>\n",
       "      <td>11</td>\n",
       "      <td>2</td>\n",
       "      <td>荤菜</td>\n",
       "      <td>葱香烤鸡</td>\n",
       "      <td>35.0</td>\n",
       "      <td>1</td>\n",
       "      <td>94</td>\n",
       "    </tr>\n",
       "    <tr>\n",
       "      <th>1</th>\n",
       "      <td>12</td>\n",
       "      <td>2</td>\n",
       "      <td>荤菜</td>\n",
       "      <td>酱爆石锅蛙</td>\n",
       "      <td>58.0</td>\n",
       "      <td>1</td>\n",
       "      <td>91</td>\n",
       "    </tr>\n",
       "    <tr>\n",
       "      <th>2</th>\n",
       "      <td>13</td>\n",
       "      <td>2</td>\n",
       "      <td>荤菜</td>\n",
       "      <td>卤制烤鸭</td>\n",
       "      <td>45.0</td>\n",
       "      <td>1</td>\n",
       "      <td>49</td>\n",
       "    </tr>\n",
       "    <tr>\n",
       "      <th>3</th>\n",
       "      <td>14</td>\n",
       "      <td>2</td>\n",
       "      <td>荤菜</td>\n",
       "      <td>粉丝裹虾</td>\n",
       "      <td>49.0</td>\n",
       "      <td>1</td>\n",
       "      <td>101</td>\n",
       "    </tr>\n",
       "    <tr>\n",
       "      <th>4</th>\n",
       "      <td>15</td>\n",
       "      <td>2</td>\n",
       "      <td>荤菜</td>\n",
       "      <td>盐菜扣肉</td>\n",
       "      <td>38.0</td>\n",
       "      <td>1</td>\n",
       "      <td>74</td>\n",
       "    </tr>\n",
       "    <tr>\n",
       "      <th>5</th>\n",
       "      <td>16</td>\n",
       "      <td>2</td>\n",
       "      <td>荤菜</td>\n",
       "      <td>鲜花椒鲈鱼</td>\n",
       "      <td>56.0</td>\n",
       "      <td>1</td>\n",
       "      <td>92</td>\n",
       "    </tr>\n",
       "    <tr>\n",
       "      <th>6</th>\n",
       "      <td>17</td>\n",
       "      <td>2</td>\n",
       "      <td>素菜</td>\n",
       "      <td>香锅卷心菜</td>\n",
       "      <td>25.0</td>\n",
       "      <td>1</td>\n",
       "      <td>104</td>\n",
       "    </tr>\n",
       "    <tr>\n",
       "      <th>7</th>\n",
       "      <td>18</td>\n",
       "      <td>2</td>\n",
       "      <td>素菜</td>\n",
       "      <td>油淋菜心</td>\n",
       "      <td>18.0</td>\n",
       "      <td>1</td>\n",
       "      <td>110</td>\n",
       "    </tr>\n",
       "    <tr>\n",
       "      <th>8</th>\n",
       "      <td>19</td>\n",
       "      <td>2</td>\n",
       "      <td>素菜</td>\n",
       "      <td>香锅花菜</td>\n",
       "      <td>28.0</td>\n",
       "      <td>1</td>\n",
       "      <td>75</td>\n",
       "    </tr>\n",
       "    <tr>\n",
       "      <th>9</th>\n",
       "      <td>20</td>\n",
       "      <td>2</td>\n",
       "      <td>汤</td>\n",
       "      <td>石锅鸡汤豆腐</td>\n",
       "      <td>32.0</td>\n",
       "      <td>1</td>\n",
       "      <td>64</td>\n",
       "    </tr>\n",
       "  </tbody>\n",
       "</table>\n",
       "</div>"
      ],
      "text/plain": [
       "    0  1   2       3     4  5    6\n",
       "0  11  2  荤菜    葱香烤鸡  35.0  1   94\n",
       "1  12  2  荤菜   酱爆石锅蛙  58.0  1   91\n",
       "2  13  2  荤菜    卤制烤鸭  45.0  1   49\n",
       "3  14  2  荤菜    粉丝裹虾  49.0  1  101\n",
       "4  15  2  荤菜    盐菜扣肉  38.0  1   74\n",
       "5  16  2  荤菜   鲜花椒鲈鱼  56.0  1   92\n",
       "6  17  2  素菜   香锅卷心菜  25.0  1  104\n",
       "7  18  2  素菜    油淋菜心  18.0  1  110\n",
       "8  19  2  素菜    香锅花菜  28.0  1   75\n",
       "9  20  2   汤  石锅鸡汤豆腐  32.0  1   64"
      ]
     },
     "execution_count": 2,
     "metadata": {},
     "output_type": "execute_result"
    }
   ],
   "source": [
    "cnx, cursor = sql_tools.create_session_cursor()\n",
    "result = sql_tools.execute_fetchall(cursor, 'SELECT * from food where RESTAURANT_ID=%s;', [2])\n",
    "result = pd.DataFrame(result)\n",
    "result\n"
   ]
  },
  {
   "cell_type": "code",
   "execution_count": 3,
   "metadata": {},
   "outputs": [
    {
     "data": {
      "text/html": [
       "<div>\n",
       "<style scoped>\n",
       "    .dataframe tbody tr th:only-of-type {\n",
       "        vertical-align: middle;\n",
       "    }\n",
       "\n",
       "    .dataframe tbody tr th {\n",
       "        vertical-align: top;\n",
       "    }\n",
       "\n",
       "    .dataframe thead th {\n",
       "        text-align: right;\n",
       "    }\n",
       "</style>\n",
       "<table border=\"1\" class=\"dataframe\">\n",
       "  <thead>\n",
       "    <tr style=\"text-align: right;\">\n",
       "      <th></th>\n",
       "      <th>0</th>\n",
       "      <th>1</th>\n",
       "      <th>2</th>\n",
       "      <th>3</th>\n",
       "      <th>4</th>\n",
       "    </tr>\n",
       "  </thead>\n",
       "  <tbody>\n",
       "    <tr>\n",
       "      <th>0</th>\n",
       "      <td>601</td>\n",
       "      <td>2</td>\n",
       "      <td>101</td>\n",
       "      <td>2023-03-10 17:18:29</td>\n",
       "      <td>11</td>\n",
       "    </tr>\n",
       "    <tr>\n",
       "      <th>1</th>\n",
       "      <td>602</td>\n",
       "      <td>2</td>\n",
       "      <td>102</td>\n",
       "      <td>2023-03-15 19:20:47</td>\n",
       "      <td>12</td>\n",
       "    </tr>\n",
       "    <tr>\n",
       "      <th>2</th>\n",
       "      <td>603</td>\n",
       "      <td>2</td>\n",
       "      <td>103</td>\n",
       "      <td>2023-03-14 13:29:26</td>\n",
       "      <td>8</td>\n",
       "    </tr>\n",
       "    <tr>\n",
       "      <th>3</th>\n",
       "      <td>604</td>\n",
       "      <td>2</td>\n",
       "      <td>104</td>\n",
       "      <td>2023-03-10 17:09:17</td>\n",
       "      <td>13</td>\n",
       "    </tr>\n",
       "    <tr>\n",
       "      <th>4</th>\n",
       "      <td>605</td>\n",
       "      <td>2</td>\n",
       "      <td>105</td>\n",
       "      <td>2023-03-04 18:01:27</td>\n",
       "      <td>15</td>\n",
       "    </tr>\n",
       "  </tbody>\n",
       "</table>\n",
       "</div>"
      ],
      "text/plain": [
       "     0  1    2                   3   4\n",
       "0  601  2  101 2023-03-10 17:18:29  11\n",
       "1  602  2  102 2023-03-15 19:20:47  12\n",
       "2  603  2  103 2023-03-14 13:29:26   8\n",
       "3  604  2  104 2023-03-10 17:09:17  13\n",
       "4  605  2  105 2023-03-04 18:01:27  15"
      ]
     },
     "execution_count": 3,
     "metadata": {},
     "output_type": "execute_result"
    }
   ],
   "source": [
    "Order = Order = sql_tools.execute_fetchall(cursor, 'SELECT * from `order` where RESTAURANT_ID=%s;', [2])\n",
    "Order = pd.DataFrame(Order)\n",
    "Order.head()\n",
    "# len(Order)"
   ]
  },
  {
   "cell_type": "code",
   "execution_count": 4,
   "metadata": {},
   "outputs": [
    {
     "data": {
      "text/plain": [
       "600"
      ]
     },
     "execution_count": 4,
     "metadata": {},
     "output_type": "execute_result"
    }
   ],
   "source": [
    "#支持度=购买了A和B商品（集合G）的人数/所有购买过商品（集合U）的人数\n",
    "#Formula:   Support = The number of order inlude dish A and B / The number of orders in the restaurant\n",
    "\n",
    "#Restaurant 1\n",
    "Order_detail = sql_tools.execute_fetchall(cursor, 'SELECT * from `order` where RESTAURANT_ID=1', tuple())\n",
    "Order_detail = pd.DataFrame(Order_detail)\n",
    "\n",
    "Order_num=len(Order_detail.index)\n",
    "Order_num\n"
   ]
  },
  {
   "cell_type": "code",
   "execution_count": 12,
   "metadata": {},
   "outputs": [
    {
     "data": {
      "text/html": [
       "<div>\n",
       "<style scoped>\n",
       "    .dataframe tbody tr th:only-of-type {\n",
       "        vertical-align: middle;\n",
       "    }\n",
       "\n",
       "    .dataframe tbody tr th {\n",
       "        vertical-align: top;\n",
       "    }\n",
       "\n",
       "    .dataframe thead th {\n",
       "        text-align: right;\n",
       "    }\n",
       "</style>\n",
       "<table border=\"1\" class=\"dataframe\">\n",
       "  <thead>\n",
       "    <tr style=\"text-align: right;\">\n",
       "      <th></th>\n",
       "      <th>21</th>\n",
       "      <th>22</th>\n",
       "      <th>23</th>\n",
       "      <th>24</th>\n",
       "      <th>25</th>\n",
       "      <th>26</th>\n",
       "      <th>27</th>\n",
       "      <th>28</th>\n",
       "      <th>29</th>\n",
       "      <th>30</th>\n",
       "    </tr>\n",
       "    <tr>\n",
       "      <th>0</th>\n",
       "      <th></th>\n",
       "      <th></th>\n",
       "      <th></th>\n",
       "      <th></th>\n",
       "      <th></th>\n",
       "      <th></th>\n",
       "      <th></th>\n",
       "      <th></th>\n",
       "      <th></th>\n",
       "      <th></th>\n",
       "    </tr>\n",
       "  </thead>\n",
       "  <tbody>\n",
       "    <tr>\n",
       "      <th>21</th>\n",
       "      <td>0.818333</td>\n",
       "      <td>0.555000</td>\n",
       "      <td>0.526667</td>\n",
       "      <td>0.420000</td>\n",
       "      <td>0.323333</td>\n",
       "      <td>0.508333</td>\n",
       "      <td>0.405000</td>\n",
       "      <td>0.648333</td>\n",
       "      <td>0.636667</td>\n",
       "      <td>0.488333</td>\n",
       "    </tr>\n",
       "    <tr>\n",
       "      <th>22</th>\n",
       "      <td>0.555000</td>\n",
       "      <td>0.660000</td>\n",
       "      <td>0.438333</td>\n",
       "      <td>0.348333</td>\n",
       "      <td>0.261667</td>\n",
       "      <td>0.396667</td>\n",
       "      <td>0.321667</td>\n",
       "      <td>0.525000</td>\n",
       "      <td>0.525000</td>\n",
       "      <td>0.400000</td>\n",
       "    </tr>\n",
       "    <tr>\n",
       "      <th>23</th>\n",
       "      <td>0.526667</td>\n",
       "      <td>0.438333</td>\n",
       "      <td>0.636667</td>\n",
       "      <td>0.331667</td>\n",
       "      <td>0.235000</td>\n",
       "      <td>0.401667</td>\n",
       "      <td>0.316667</td>\n",
       "      <td>0.498333</td>\n",
       "      <td>0.505000</td>\n",
       "      <td>0.366667</td>\n",
       "    </tr>\n",
       "    <tr>\n",
       "      <th>24</th>\n",
       "      <td>0.420000</td>\n",
       "      <td>0.348333</td>\n",
       "      <td>0.331667</td>\n",
       "      <td>0.516667</td>\n",
       "      <td>0.183333</td>\n",
       "      <td>0.305000</td>\n",
       "      <td>0.265000</td>\n",
       "      <td>0.398333</td>\n",
       "      <td>0.388333</td>\n",
       "      <td>0.313333</td>\n",
       "    </tr>\n",
       "    <tr>\n",
       "      <th>25</th>\n",
       "      <td>0.323333</td>\n",
       "      <td>0.261667</td>\n",
       "      <td>0.235000</td>\n",
       "      <td>0.183333</td>\n",
       "      <td>0.390000</td>\n",
       "      <td>0.241667</td>\n",
       "      <td>0.198333</td>\n",
       "      <td>0.306667</td>\n",
       "      <td>0.313333</td>\n",
       "      <td>0.225000</td>\n",
       "    </tr>\n",
       "    <tr>\n",
       "      <th>26</th>\n",
       "      <td>0.508333</td>\n",
       "      <td>0.396667</td>\n",
       "      <td>0.401667</td>\n",
       "      <td>0.305000</td>\n",
       "      <td>0.241667</td>\n",
       "      <td>0.620000</td>\n",
       "      <td>0.285000</td>\n",
       "      <td>0.501667</td>\n",
       "      <td>0.470000</td>\n",
       "      <td>0.350000</td>\n",
       "    </tr>\n",
       "    <tr>\n",
       "      <th>27</th>\n",
       "      <td>0.405000</td>\n",
       "      <td>0.321667</td>\n",
       "      <td>0.316667</td>\n",
       "      <td>0.265000</td>\n",
       "      <td>0.198333</td>\n",
       "      <td>0.285000</td>\n",
       "      <td>0.498333</td>\n",
       "      <td>0.391667</td>\n",
       "      <td>0.393333</td>\n",
       "      <td>0.301667</td>\n",
       "    </tr>\n",
       "    <tr>\n",
       "      <th>28</th>\n",
       "      <td>0.648333</td>\n",
       "      <td>0.525000</td>\n",
       "      <td>0.498333</td>\n",
       "      <td>0.398333</td>\n",
       "      <td>0.306667</td>\n",
       "      <td>0.501667</td>\n",
       "      <td>0.391667</td>\n",
       "      <td>0.798333</td>\n",
       "      <td>0.611667</td>\n",
       "      <td>0.465000</td>\n",
       "    </tr>\n",
       "    <tr>\n",
       "      <th>29</th>\n",
       "      <td>0.636667</td>\n",
       "      <td>0.525000</td>\n",
       "      <td>0.505000</td>\n",
       "      <td>0.388333</td>\n",
       "      <td>0.313333</td>\n",
       "      <td>0.470000</td>\n",
       "      <td>0.393333</td>\n",
       "      <td>0.611667</td>\n",
       "      <td>0.778333</td>\n",
       "      <td>0.471667</td>\n",
       "    </tr>\n",
       "    <tr>\n",
       "      <th>30</th>\n",
       "      <td>0.488333</td>\n",
       "      <td>0.400000</td>\n",
       "      <td>0.366667</td>\n",
       "      <td>0.313333</td>\n",
       "      <td>0.225000</td>\n",
       "      <td>0.350000</td>\n",
       "      <td>0.301667</td>\n",
       "      <td>0.465000</td>\n",
       "      <td>0.471667</td>\n",
       "      <td>0.581667</td>\n",
       "    </tr>\n",
       "  </tbody>\n",
       "</table>\n",
       "</div>"
      ],
      "text/plain": [
       "0         21        22        23        24        25        26        27  \\\n",
       "0                                                                          \n",
       "21  0.818333  0.555000  0.526667  0.420000  0.323333  0.508333  0.405000   \n",
       "22  0.555000  0.660000  0.438333  0.348333  0.261667  0.396667  0.321667   \n",
       "23  0.526667  0.438333  0.636667  0.331667  0.235000  0.401667  0.316667   \n",
       "24  0.420000  0.348333  0.331667  0.516667  0.183333  0.305000  0.265000   \n",
       "25  0.323333  0.261667  0.235000  0.183333  0.390000  0.241667  0.198333   \n",
       "26  0.508333  0.396667  0.401667  0.305000  0.241667  0.620000  0.285000   \n",
       "27  0.405000  0.321667  0.316667  0.265000  0.198333  0.285000  0.498333   \n",
       "28  0.648333  0.525000  0.498333  0.398333  0.306667  0.501667  0.391667   \n",
       "29  0.636667  0.525000  0.505000  0.388333  0.313333  0.470000  0.393333   \n",
       "30  0.488333  0.400000  0.366667  0.313333  0.225000  0.350000  0.301667   \n",
       "\n",
       "0         28        29        30  \n",
       "0                                 \n",
       "21  0.648333  0.636667  0.488333  \n",
       "22  0.525000  0.525000  0.400000  \n",
       "23  0.498333  0.505000  0.366667  \n",
       "24  0.398333  0.388333  0.313333  \n",
       "25  0.306667  0.313333  0.225000  \n",
       "26  0.501667  0.470000  0.350000  \n",
       "27  0.391667  0.393333  0.301667  \n",
       "28  0.798333  0.611667  0.465000  \n",
       "29  0.611667  0.778333  0.471667  \n",
       "30  0.465000  0.471667  0.581667  "
      ]
     },
     "execution_count": 12,
     "metadata": {},
     "output_type": "execute_result"
    }
   ],
   "source": [
    "import numpy as np\n",
    "\n",
    "def _get_support_matrix(id):\n",
    "    cnx, cursor = sql_tools.create_session_cursor()\n",
    "    food = sql_tools.execute_fetchall(cursor, 'SELECT * from food where RESTAURANT_ID=%s;', [id])\n",
    "    food = pd.DataFrame(food)\n",
    "    Food_num = len(food)\n",
    "\n",
    "    Order = sql_tools.execute_fetchall(cursor, 'SELECT * from `order` where RESTAURANT_ID=%s;', [id])\n",
    "    Order = pd.DataFrame(Order)\n",
    "\n",
    "    Order_detail = sql_tools.execute_fetchall(cursor, 'SELECT * from `order` where RESTAURANT_ID=%s', [id])\n",
    "    Order_detail = pd.DataFrame(Order_detail)\n",
    "\n",
    "    Order_num=len(Order_detail)\n",
    "\n",
    "    Dish_Relation= pd.DataFrame(np.zeros((Food_num, Food_num)),\n",
    "                                columns=food[0], index=food[0])\n",
    "\n",
    "    Order_detail = sql_tools.execute_fetchall(cursor, 'SELECT * from order_details', tuple())\n",
    "    Order_detail = pd.DataFrame(Order_detail)\n",
    "\n",
    "    for i in Order[0]:\n",
    "        Temp = Order_detail.loc[ Order_detail[0] == i ]\n",
    "        # Temp = pd.DataFrame(Temp)\n",
    "        for j in Temp[1].tolist():\n",
    "            for k in Temp[1].tolist():\n",
    "                Dish_Relation.loc[j, k] += 1\n",
    "\n",
    "    cnx.close()\n",
    "    return Dish_Relation / Order_num, food\n",
    "\n",
    "Dish_Relation = _get_support_matrix(3)\n",
    "\n",
    "Support_Matrix, food = Dish_Relation\n",
    "Support_Matrix"
   ]
  },
  {
   "cell_type": "code",
   "execution_count": 28,
   "metadata": {},
   "outputs": [
    {
     "name": "stdout",
     "output_type": "stream",
     "text": [
      "['果木烤鸭', '糖醋里脊', '叫花鸡', '毛血旺', '香锅牛杂', '粉丝包菜', '香锅土豆片', '腐竹鸡毛菜', '鸭汤', '鸽子汤']\n"
     ]
    },
    {
     "data": {
      "text/plain": [
       "(array([-0.5       ,  0.61111111,  1.72222222,  2.83333333,  3.94444444,\n",
       "         5.05555556,  6.16666667,  7.27777778,  8.38888889,  9.5       ]),\n",
       " [Text(0, -0.5, '果木烤鸭'),\n",
       "  Text(0, 0.6111111111111112, '糖醋里脊'),\n",
       "  Text(0, 1.7222222222222223, '叫花鸡'),\n",
       "  Text(0, 2.8333333333333335, '毛血旺'),\n",
       "  Text(0, 3.9444444444444446, '香锅牛杂'),\n",
       "  Text(0, 5.055555555555555, '粉丝包菜'),\n",
       "  Text(0, 6.166666666666667, '香锅土豆片'),\n",
       "  Text(0, 7.277777777777779, '腐竹鸡毛菜'),\n",
       "  Text(0, 8.38888888888889, '鸭汤'),\n",
       "  Text(0, 9.5, '鸽子汤')])"
      ]
     },
     "execution_count": 28,
     "metadata": {},
     "output_type": "execute_result"
    },
    {
     "data": {
      "image/png": "[encoded data removed]",
      "text/plain": [
       "<Figure size 640x480 with 1 Axes>"
      ]
     },
     "metadata": {},
     "output_type": "display_data"
    }
   ],
   "source": [
    "from matplotlib import pyplot as plt \n",
    "from matplotlib import ticker\n",
    "\n",
    "plt.rcParams['font.sans-serif']=['SimHei'] \n",
    "\n",
    "fig, ax = plt.subplots()\n",
    "ax.imshow(Support_Matrix, cmap='coolwarm')\n",
    "print(food[3].tolist())\n",
    "# plt.xlabel(food[3].tolist())\n",
    "# plt.ylabel(food[3].tolist())\n",
    "ax.xaxis.set_major_locator(\n",
    "    ticker.LinearLocator(len(food))\n",
    ")\n",
    "ax.xaxis.set_major_formatter(\n",
    "    ticker.FuncFormatter(lambda x, pos: food[3].tolist()[pos])\n",
    ")\n",
    "plt.xticks(rotation=45)\n",
    "\n",
    "ax.yaxis.set_major_locator(\n",
    "    ticker.LinearLocator(len(food))\n",
    ")\n",
    "ax.yaxis.set_major_formatter(\n",
    "    ticker.FuncFormatter(lambda x, pos: food[3].tolist()[pos])\n",
    ")\n",
    "plt.yticks(rotation=45)\n",
    "\n"
   ]
  },
  {
   "cell_type": "code",
   "execution_count": 30,
   "metadata": {},
   "outputs": [
    {
     "name": "stdout",
     "output_type": "stream",
     "text": [
      "{(0, 7), (0, 8), (7, 8)}\n"
     ]
    },
    {
     "data": {
      "text/plain": [
       "[('果木烤鸭', '果木烤鸭', '腐竹鸡毛菜'),\n",
       " ('腐竹鸡毛菜', '鸭汤', '鸭汤'),\n",
       " (0.6483333333333333, 0.6366666666666667, 0.6116666666666667)]"
      ]
     },
     "execution_count": 30,
     "metadata": {},
     "output_type": "execute_result"
    }
   ],
   "source": [
    "def _get_combinations(Support_Matrix, id):\n",
    "    idx, idy = np.where(Support_Matrix>0.6)\n",
    "    combs = set()\n",
    "    for i in range(len(idx)):\n",
    "        if idx[i] != idy[i]:\n",
    "            combs.add((min(idx[i], idy[i]), max(idx[i], idy[i])))\n",
    "    print(combs)\n",
    "\n",
    "    combs = list(combs)\n",
    "    cnx, cursor = sql_tools.create_session_cursor()\n",
    "    food = sql_tools.execute_fetchall(cursor, 'SELECT * from food where RESTAURANT_ID=%s;', [id])\n",
    "    cnx.close()\n",
    "    food = pd.DataFrame(food)\n",
    "    food.index = food[0]\n",
    "    # print(food)\n",
    "    result = []\n",
    "    for comb in combs:\n",
    "        dishname1 = food.iloc[comb[0], 3]\n",
    "        dishname2 = food.iloc[comb[1], 3]\n",
    "        Support_Index = Support_Matrix.iloc[comb[0], comb[1]]\n",
    "        result.append((dishname1, dishname2, Support_Index))\n",
    "    return result\n",
    "list(zip(*_get_combinations(Support_Matrix, 3)))"
   ]
  },
  {
   "cell_type": "code",
   "execution_count": 12,
   "metadata": {},
   "outputs": [
    {
     "data": {
      "text/plain": [
       "<matplotlib.image.AxesImage at 0x22ca700b550>"
      ]
     },
     "execution_count": 12,
     "metadata": {},
     "output_type": "execute_result"
    },
    {
     "data": {
      "image/png": "[encoded data removed]",
      "text/plain": [
       "<Figure size 640x480 with 1 Axes>"
      ]
     },
     "metadata": {},
     "output_type": "display_data"
    }
   ],
   "source": [
    "plt.imshow(np.where(Support_Matrix>0.6, 1, 0))"
   ]
  },
  {
   "cell_type": "code",
   "execution_count": 827,
   "metadata": {},
   "outputs": [],
   "source": [
    "#满足比如支持度>0.6，置信度>0.6的这些商品组合才可以认为是有关联的，值得推荐的\n",
    "#支持度>0.6:\n",
    "#Dish 1 and Dish 6\n",
    "#Dish 1 and Dish 10\n",
    "#Dish 6 and Dish 10"
   ]
  },
  {
   "cell_type": "code",
   "execution_count": 828,
   "metadata": {},
   "outputs": [],
   "source": [
    "#置信度=购买了A和B商品（集合G）的人数/购买了A商品（集合A）的人数\n",
    "#Confidence of A = The number of order inlude dish A and B / The number of order include dish A\n",
    "\n",
    "Confidence_A =  Dish_Relation[0][5] / Order_Count[0]\n",
    "Confidence_B =  Dish_Relation[0][5] / Order_Count[5]\n",
    "\n",
    "#Confidence_A = 0.7814432989690722\n",
    "#Confidence_B = 0.7962184873949579\n",
    "#Dish 1 and Dish 6 is recommended"
   ]
  },
  {
   "cell_type": "code",
   "execution_count": 829,
   "metadata": {},
   "outputs": [],
   "source": [
    "Confidence_A =  Dish_Relation[0][9] / Order_Count[0]\n",
    "Confidence_B =  Dish_Relation[0][9] / Order_Count[9]\n",
    "\n",
    "#Confidence_A = 0.8474226804123711\n",
    "#Confidence_B = 0.8170974155069582\n",
    "#Dish 1 and Dish 10 is recommended"
   ]
  },
  {
   "cell_type": "code",
   "execution_count": 830,
   "metadata": {},
   "outputs": [],
   "source": [
    "Confidence_A =  Dish_Relation[5][9] / Order_Count[5]\n",
    "Confidence_B =  Dish_Relation[5][9] / Order_Count[9]\n",
    "\n",
    "#Confidence_A = 0.8445378151260504\n",
    "#Confidence_B = 0.7992047713717694\n",
    "#Dish 6 and Dish 10 is recommended"
   ]
  },
  {
   "cell_type": "code",
   "execution_count": 831,
   "metadata": {},
   "outputs": [
    {
     "data": {
      "text/plain": [
       "600"
      ]
     },
     "execution_count": 831,
     "metadata": {},
     "output_type": "execute_result"
    }
   ],
   "source": [
    "#Restaurant 2\n",
    "Order_detail = sql_tools.execute_fetchall(cursor, 'SELECT * from `order` where RESTAURANT_ID=2', tuple())\n",
    "Order_detail = pd.DataFrame(Order_detail)\n",
    "\n",
    "Order_num=len(Order_detail.index)\n",
    "Order_num"
   ]
  },
  {
   "cell_type": "code",
   "execution_count": 832,
   "metadata": {},
   "outputs": [],
   "source": [
    "import numpy as np\n",
    "Dish_Relation= np.zeros((10, 10))\n",
    "Order_Count = np.zeros(10)\n",
    "for i in range(601,1201):\n",
    "    Temp = sql_tools.execute_fetchall(cursor, 'SELECT * from order_details where ORDER_ID=%s', tuple([i]))\n",
    "    Temp = pd.DataFrame(Temp)\n",
    "    for j in Temp[1].tolist():\n",
    "        Order_Count[(j-1)%10] += 1\n",
    "        for k in Temp[1].tolist():\n",
    "            Dish_Relation[(j-1)%10][(k-1)%10]+=1\n",
    "\n",
    "    "
   ]
  },
  {
   "cell_type": "code",
   "execution_count": 833,
   "metadata": {},
   "outputs": [
    {
     "data": {
      "text/plain": [
       "array([[0.51166667, 0.34833333, 0.30333333, 0.40333333, 0.20666667,\n",
       "        0.215     , 0.36      , 0.45      , 0.28166667, 0.35      ],\n",
       "       [0.34833333, 0.69666667, 0.415     , 0.54333333, 0.26833333,\n",
       "        0.26166667, 0.51      , 0.62666667, 0.37666667, 0.47333333],\n",
       "       [0.30333333, 0.415     , 0.605     , 0.48666667, 0.23166667,\n",
       "        0.22666667, 0.41833333, 0.54833333, 0.32666667, 0.4       ],\n",
       "       [0.40333333, 0.54333333, 0.48666667, 0.785     , 0.29833333,\n",
       "        0.31333333, 0.53833333, 0.71166667, 0.41      , 0.54333333],\n",
       "       [0.20666667, 0.26833333, 0.23166667, 0.29833333, 0.38666667,\n",
       "        0.15666667, 0.27      , 0.34166667, 0.21      , 0.25333333],\n",
       "       [0.215     , 0.26166667, 0.22666667, 0.31333333, 0.15666667,\n",
       "        0.40166667, 0.29666667, 0.35833333, 0.225     , 0.27833333],\n",
       "       [0.36      , 0.51      , 0.41833333, 0.53833333, 0.27      ,\n",
       "        0.29666667, 0.695     , 0.63333333, 0.38333333, 0.48166667],\n",
       "       [0.45      , 0.62666667, 0.54833333, 0.71166667, 0.34166667,\n",
       "        0.35833333, 0.63333333, 0.90333333, 0.48333333, 0.61833333],\n",
       "       [0.28166667, 0.37666667, 0.32666667, 0.41      , 0.21      ,\n",
       "        0.225     , 0.38333333, 0.48333333, 0.545     , 0.35166667],\n",
       "       [0.35      , 0.47333333, 0.4       , 0.54333333, 0.25333333,\n",
       "        0.27833333, 0.48166667, 0.61833333, 0.35166667, 0.67833333]])"
      ]
     },
     "execution_count": 833,
     "metadata": {},
     "output_type": "execute_result"
    }
   ],
   "source": [
    "Support_Matrix = Dish_Relation / Order_num\n",
    "Support_Matrix"
   ]
  },
  {
   "cell_type": "code",
   "execution_count": 834,
   "metadata": {},
   "outputs": [],
   "source": [
    "#满足比如支持度>0.6，置信度>0.6的这些商品组合才可以认为是有关联的，值得推荐的\n",
    "#支持度>0.6:\n",
    "#Dish 2 and Dish 8\n",
    "#Dish 4 and Dish 8\n",
    "#Dish 7 and Dish 8\n",
    "#Dish 8 and Dish 10"
   ]
  },
  {
   "cell_type": "code",
   "execution_count": 835,
   "metadata": {},
   "outputs": [],
   "source": [
    "Confidence_A =  Dish_Relation[1][7] / Order_Count[1]\n",
    "Confidence_B =  Dish_Relation[1][7] / Order_Count[7]\n",
    "\n",
    "\n",
    "#Confidence_A = 0.8995215311004785\n",
    "#Confidence_B = 0.6937269372693727\n",
    "#Dish 2 and Dish 8 is recommended"
   ]
  },
  {
   "cell_type": "code",
   "execution_count": 836,
   "metadata": {},
   "outputs": [],
   "source": [
    "Confidence_A =  Dish_Relation[3][7] / Order_Count[3]\n",
    "Confidence_B =  Dish_Relation[3][7] / Order_Count[7]\n",
    "\n",
    "#Confidence_A = 0.9065817409766455\n",
    "#Confidence_B = 0.7878228782287823\n",
    "#Dish 4 and Dish 8 is recommended"
   ]
  },
  {
   "cell_type": "code",
   "execution_count": 837,
   "metadata": {},
   "outputs": [],
   "source": [
    "Confidence_A =  Dish_Relation[6][7] / Order_Count[6]\n",
    "Confidence_B =  Dish_Relation[6][7] / Order_Count[7]\n",
    "\n",
    "#Confidence_A = 0.9112709832134293\n",
    "#Confidence_B = 0.7011070110701108\n",
    "#Dish 7 and Dish 8 is recommended"
   ]
  },
  {
   "cell_type": "code",
   "execution_count": 838,
   "metadata": {},
   "outputs": [],
   "source": [
    "Confidence_A =  Dish_Relation[7][9] / Order_Count[7]\n",
    "Confidence_B =  Dish_Relation[7][9] / Order_Count[9]\n",
    "\n",
    "#Confidence_A = 0.6845018450184502\n",
    "#Confidence_B = 0.9115479115479116\n",
    "#Dish 8 and Dish 10 is recommended"
   ]
  },
  {
   "cell_type": "code",
   "execution_count": 839,
   "metadata": {},
   "outputs": [
    {
     "data": {
      "text/plain": [
       "600"
      ]
     },
     "execution_count": 839,
     "metadata": {},
     "output_type": "execute_result"
    }
   ],
   "source": [
    "#Restaurant 3\n",
    "Order_detail = sql_tools.execute_fetchall(cursor, 'SELECT * from `order` where RESTAURANT_ID=3', tuple())\n",
    "Order_detail = pd.DataFrame(Order_detail)\n",
    "\n",
    "Order_num=len(Order_detail.index)\n",
    "Order_num"
   ]
  },
  {
   "cell_type": "code",
   "execution_count": 840,
   "metadata": {},
   "outputs": [],
   "source": [
    "import numpy as np\n",
    "Dish_Relation= np.zeros((10, 10))\n",
    "Order_Count = np.zeros(10)\n",
    "for i in range(1201,1801):\n",
    "    Temp = sql_tools.execute_fetchall(cursor, 'SELECT * from order_details where ORDER_ID=%s', tuple([i]))\n",
    "    Temp = pd.DataFrame(Temp)\n",
    "    for j in Temp[1].tolist():\n",
    "        Order_Count[(j-1)%10] += 1\n",
    "        for k in Temp[1].tolist():\n",
    "            Dish_Relation[(j-1)%10][(k-1)%10]+=1"
   ]
  },
  {
   "cell_type": "code",
   "execution_count": 841,
   "metadata": {},
   "outputs": [
    {
     "data": {
      "text/plain": [
       "array([[0.81833333, 0.555     , 0.52666667, 0.42      , 0.32333333,\n",
       "        0.50833333, 0.405     , 0.64833333, 0.63666667, 0.48833333],\n",
       "       [0.555     , 0.66      , 0.43833333, 0.34833333, 0.26166667,\n",
       "        0.39666667, 0.32166667, 0.525     , 0.525     , 0.4       ],\n",
       "       [0.52666667, 0.43833333, 0.63666667, 0.33166667, 0.235     ,\n",
       "        0.40166667, 0.31666667, 0.49833333, 0.505     , 0.36666667],\n",
       "       [0.42      , 0.34833333, 0.33166667, 0.51666667, 0.18333333,\n",
       "        0.305     , 0.265     , 0.39833333, 0.38833333, 0.31333333],\n",
       "       [0.32333333, 0.26166667, 0.235     , 0.18333333, 0.39      ,\n",
       "        0.24166667, 0.19833333, 0.30666667, 0.31333333, 0.225     ],\n",
       "       [0.50833333, 0.39666667, 0.40166667, 0.305     , 0.24166667,\n",
       "        0.62      , 0.285     , 0.50166667, 0.47      , 0.35      ],\n",
       "       [0.405     , 0.32166667, 0.31666667, 0.265     , 0.19833333,\n",
       "        0.285     , 0.49833333, 0.39166667, 0.39333333, 0.30166667],\n",
       "       [0.64833333, 0.525     , 0.49833333, 0.39833333, 0.30666667,\n",
       "        0.50166667, 0.39166667, 0.79833333, 0.61166667, 0.465     ],\n",
       "       [0.63666667, 0.525     , 0.505     , 0.38833333, 0.31333333,\n",
       "        0.47      , 0.39333333, 0.61166667, 0.77833333, 0.47166667],\n",
       "       [0.48833333, 0.4       , 0.36666667, 0.31333333, 0.225     ,\n",
       "        0.35      , 0.30166667, 0.465     , 0.47166667, 0.58166667]])"
      ]
     },
     "execution_count": 841,
     "metadata": {},
     "output_type": "execute_result"
    }
   ],
   "source": [
    "Support_Matrix = Dish_Relation / Order_num\n",
    "Support_Matrix"
   ]
  },
  {
   "cell_type": "code",
   "execution_count": 842,
   "metadata": {},
   "outputs": [],
   "source": [
    "#满足比如支持度>0.6，置信度>0.6的这些商品组合才可以认为是有关联的，值得推荐的\n",
    "#支持度>0.6:\n",
    "#Dish 1 and Dish 8\n",
    "#Dish 1 and Dish 9\n",
    "#Dish 8 and Dish 9"
   ]
  },
  {
   "cell_type": "code",
   "execution_count": 843,
   "metadata": {},
   "outputs": [],
   "source": [
    "Confidence_A =  Dish_Relation[0][7] / Order_Count[0]\n",
    "Confidence_B =  Dish_Relation[0][7] / Order_Count[7]\n",
    "\n",
    "#Confidence_A = 0.7922606924643585\n",
    "#Confidence_B = 0.8121085594989561\n",
    "#Dish 1 and Dish 8 is recommended"
   ]
  },
  {
   "cell_type": "code",
   "execution_count": 844,
   "metadata": {},
   "outputs": [],
   "source": [
    "Confidence_A =  Dish_Relation[0][8] / Order_Count[0]\n",
    "Confidence_B =  Dish_Relation[0][8] / Order_Count[8]\n",
    "\n",
    "#Confidence_A = 0.7780040733197556\n",
    "#Confidence_B = 0.8179871520342612\n",
    "#Dish 1 and Dish 9 is recommended"
   ]
  },
  {
   "cell_type": "code",
   "execution_count": 845,
   "metadata": {},
   "outputs": [],
   "source": [
    "Confidence_A =  Dish_Relation[7][8] / Order_Count[7]\n",
    "Confidence_B =  Dish_Relation[7][8] / Order_Count[8]\n",
    "\n",
    "#Confidence_A = 0.7661795407098121\n",
    "#Confidence_B = 0.7858672376873662\n",
    "#Dish 8 and Dish 9 is recommended"
   ]
  },
  {
   "cell_type": "code",
   "execution_count": 846,
   "metadata": {},
   "outputs": [
    {
     "data": {
      "text/plain": [
       "600"
      ]
     },
     "execution_count": 846,
     "metadata": {},
     "output_type": "execute_result"
    }
   ],
   "source": [
    "#Restaurant 4\n",
    "Order_detail = sql_tools.execute_fetchall(cursor, 'SELECT * from `order` where RESTAURANT_ID=4', tuple())\n",
    "Order_detail = pd.DataFrame(Order_detail)\n",
    "\n",
    "Order_num=len(Order_detail.index)\n",
    "Order_num"
   ]
  },
  {
   "cell_type": "code",
   "execution_count": 847,
   "metadata": {},
   "outputs": [],
   "source": [
    "import numpy as np\n",
    "Dish_Relation= np.zeros((10, 10))\n",
    "Order_Count = np.zeros(10)\n",
    "for i in range(1801,2401):\n",
    "    Temp = sql_tools.execute_fetchall(cursor, 'SELECT * from order_details where ORDER_ID=%s', tuple([i]))\n",
    "    Temp = pd.DataFrame(Temp)\n",
    "    for j in Temp[1].tolist():\n",
    "        Order_Count[(j-1)%10] += 1\n",
    "        for k in Temp[1].tolist():\n",
    "            Dish_Relation[(j-1)%10][(k-1)%10]+=1"
   ]
  },
  {
   "cell_type": "code",
   "execution_count": 848,
   "metadata": {},
   "outputs": [
    {
     "data": {
      "text/plain": [
       "array([[0.6       , 0.46833333, 0.38333333, 0.44      , 0.27666667,\n",
       "        0.33      , 0.405     , 0.35666667, 0.46      , 0.30333333],\n",
       "       [0.46833333, 0.78333333, 0.475     , 0.57333333, 0.375     ,\n",
       "        0.39833333, 0.54      , 0.505     , 0.61666667, 0.40666667],\n",
       "       [0.38333333, 0.475     , 0.62666667, 0.44833333, 0.29833333,\n",
       "        0.315     , 0.43666667, 0.37833333, 0.47833333, 0.315     ],\n",
       "       [0.44      , 0.57333333, 0.44833333, 0.72      , 0.325     ,\n",
       "        0.36666667, 0.49666667, 0.44833333, 0.55166667, 0.35833333],\n",
       "       [0.27666667, 0.375     , 0.29833333, 0.325     , 0.48166667,\n",
       "        0.245     , 0.32333333, 0.29833333, 0.37666667, 0.26166667],\n",
       "       [0.33      , 0.39833333, 0.315     , 0.36666667, 0.245     ,\n",
       "        0.49833333, 0.35166667, 0.33      , 0.40166667, 0.24166667],\n",
       "       [0.405     , 0.54      , 0.43666667, 0.49666667, 0.32333333,\n",
       "        0.35166667, 0.695     , 0.455     , 0.54666667, 0.36333333],\n",
       "       [0.35666667, 0.505     , 0.37833333, 0.44833333, 0.29833333,\n",
       "        0.33      , 0.455     , 0.62333333, 0.49      , 0.32      ],\n",
       "       [0.46      , 0.61666667, 0.47833333, 0.55166667, 0.37666667,\n",
       "        0.40166667, 0.54666667, 0.49      , 0.77666667, 0.38833333],\n",
       "       [0.30333333, 0.40666667, 0.315     , 0.35833333, 0.26166667,\n",
       "        0.24166667, 0.36333333, 0.32      , 0.38833333, 0.51166667]])"
      ]
     },
     "execution_count": 848,
     "metadata": {},
     "output_type": "execute_result"
    }
   ],
   "source": [
    "Support_Matrix = Dish_Relation / Order_num\n",
    "Support_Matrix"
   ]
  },
  {
   "cell_type": "code",
   "execution_count": 849,
   "metadata": {},
   "outputs": [],
   "source": [
    "#满足比如支持度>0.6，置信度>0.6的这些商品组合才可以认为是有关联的，值得推荐的\n",
    "#支持度>0.6:\n",
    "#Dish 2 and Dish 9"
   ]
  },
  {
   "cell_type": "code",
   "execution_count": 850,
   "metadata": {},
   "outputs": [],
   "source": [
    "Confidence_A =  Dish_Relation[1][8] / Order_Count[1]\n",
    "Confidence_B =  Dish_Relation[1][8] / Order_Count[8]\n",
    "\n",
    "#Confidence_A = 0.7872340425531915\n",
    "#Confidence_B = 0.7939914163090128\n",
    "#Dish 2 and Dish 9 is recommended"
   ]
  },
  {
   "cell_type": "code",
   "execution_count": 851,
   "metadata": {},
   "outputs": [
    {
     "data": {
      "text/plain": [
       "600"
      ]
     },
     "execution_count": 851,
     "metadata": {},
     "output_type": "execute_result"
    }
   ],
   "source": [
    "#Restaurant 5\n",
    "Order_detail = sql_tools.execute_fetchall(cursor, 'SELECT * from `order` where RESTAURANT_ID=5', tuple())\n",
    "Order_detail = pd.DataFrame(Order_detail)\n",
    "\n",
    "Order_num=len(Order_detail.index)\n",
    "Order_num"
   ]
  },
  {
   "cell_type": "code",
   "execution_count": 852,
   "metadata": {},
   "outputs": [],
   "source": [
    "import numpy as np\n",
    "Dish_Relation= np.zeros((10, 10))\n",
    "Order_Count = np.zeros(10)\n",
    "for i in range(2401,3001):\n",
    "    Temp = sql_tools.execute_fetchall(cursor, 'SELECT * from order_details where ORDER_ID=%s', tuple([i]))\n",
    "    Temp = pd.DataFrame(Temp)\n",
    "    for j in Temp[1].tolist():\n",
    "        Order_Count[(j-1)%10] += 1\n",
    "        for k in Temp[1].tolist():\n",
    "            Dish_Relation[(j-1)%10][(k-1)%10]+=1"
   ]
  },
  {
   "cell_type": "code",
   "execution_count": 853,
   "metadata": {},
   "outputs": [
    {
     "data": {
      "text/plain": [
       "array([[0.77166667, 0.455     , 0.555     , 0.44833333, 0.465     ,\n",
       "        0.49833333, 0.62      , 0.48833333, 0.27      , 0.45666667],\n",
       "       [0.455     , 0.61      , 0.425     , 0.36      , 0.35833333,\n",
       "        0.375     , 0.48666667, 0.38833333, 0.21833333, 0.36      ],\n",
       "       [0.555     , 0.425     , 0.72166667, 0.425     , 0.43666667,\n",
       "        0.45      , 0.57833333, 0.45333333, 0.25666667, 0.40833333],\n",
       "       [0.44833333, 0.36      , 0.425     , 0.585     , 0.345     ,\n",
       "        0.34833333, 0.45833333, 0.37      , 0.215     , 0.33333333],\n",
       "       [0.465     , 0.35833333, 0.43666667, 0.345     , 0.59833333,\n",
       "        0.35833333, 0.47833333, 0.36666667, 0.21833333, 0.35      ],\n",
       "       [0.49833333, 0.375     , 0.45      , 0.34833333, 0.35833333,\n",
       "        0.61833333, 0.50166667, 0.38833333, 0.24333333, 0.37833333],\n",
       "       [0.62      , 0.48666667, 0.57833333, 0.45833333, 0.47833333,\n",
       "        0.50166667, 0.80166667, 0.49666667, 0.28333333, 0.45666667],\n",
       "       [0.48833333, 0.38833333, 0.45333333, 0.37      , 0.36666667,\n",
       "        0.38833333, 0.49666667, 0.62666667, 0.22833333, 0.35833333],\n",
       "       [0.27      , 0.21833333, 0.25666667, 0.215     , 0.21833333,\n",
       "        0.24333333, 0.28333333, 0.22833333, 0.36      , 0.19333333],\n",
       "       [0.45666667, 0.36      , 0.40833333, 0.33333333, 0.35      ,\n",
       "        0.37833333, 0.45666667, 0.35833333, 0.19333333, 0.57833333]])"
      ]
     },
     "execution_count": 853,
     "metadata": {},
     "output_type": "execute_result"
    }
   ],
   "source": [
    "Support_Matrix = Dish_Relation / Order_num\n",
    "Support_Matrix"
   ]
  },
  {
   "cell_type": "code",
   "execution_count": 854,
   "metadata": {},
   "outputs": [],
   "source": [
    "#满足比如支持度>0.6，置信度>0.6的这些商品组合才可以认为是有关联的，值得推荐的\n",
    "#支持度>0.6:\n",
    "#Dish 1 and Dish 7"
   ]
  },
  {
   "cell_type": "code",
   "execution_count": 855,
   "metadata": {},
   "outputs": [],
   "source": [
    "Confidence_A =  Dish_Relation[0][6] / Order_Count[0]\n",
    "Confidence_B =  Dish_Relation[0][6] / Order_Count[6]\n",
    "\n",
    "#Confidence_A = 0.8034557235421166\n",
    "#Confidence_B = 0.7733887733887734\n",
    "#Dish 1 and Dish 7 is recommended"
   ]
  }
 ],
 "metadata": {
  "kernelspec": {
   "display_name": "Python 3",
   "language": "python",
   "name": "python3"
  },
  "language_info": {
   "codemirror_mode": {
    "name": "ipython",
    "version": 3
   },
   "file_extension": ".py",
   "mimetype": "text/x-python",
   "name": "python",
   "nbconvert_exporter": "python",
   "pygments_lexer": "ipython3",
   "version": "3.10.10"
  },
  "orig_nbformat": 4
 },
 "nbformat": 4,
 "nbformat_minor": 2
}
