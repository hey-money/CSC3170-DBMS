{
 "cells": [
  {
   "cell_type": "code",
   "execution_count": 821,
   "metadata": {},
   "outputs": [],
   "source": [
    "import sql_tools\n",
    "import pandas as pd"
   ]
  },
  {
   "cell_type": "code",
   "execution_count": 822,
   "metadata": {},
   "outputs": [
    {
     "data": {
      "text/html": [
       "<div>\n",
       "<style scoped>\n",
       "    .dataframe tbody tr th:only-of-type {\n",
       "        vertical-align: middle;\n",
       "    }\n",
       "\n",
       "    .dataframe tbody tr th {\n",
       "        vertical-align: top;\n",
       "    }\n",
       "\n",
       "    .dataframe thead th {\n",
       "        text-align: right;\n",
       "    }\n",
       "</style>\n",
       "<table border=\"1\" class=\"dataframe\">\n",
       "  <thead>\n",
       "    <tr style=\"text-align: right;\">\n",
       "      <th></th>\n",
       "      <th>0</th>\n",
       "      <th>1</th>\n",
       "      <th>2</th>\n",
       "      <th>3</th>\n",
       "      <th>4</th>\n",
       "      <th>5</th>\n",
       "      <th>6</th>\n",
       "    </tr>\n",
       "  </thead>\n",
       "  <tbody>\n",
       "    <tr>\n",
       "      <th>0</th>\n",
       "      <td>1</td>\n",
       "      <td>1</td>\n",
       "      <td>荤菜</td>\n",
       "      <td>辣椒炒肉</td>\n",
       "      <td>42.0</td>\n",
       "      <td>1</td>\n",
       "      <td>82</td>\n",
       "    </tr>\n",
       "    <tr>\n",
       "      <th>1</th>\n",
       "      <td>2</td>\n",
       "      <td>1</td>\n",
       "      <td>荤菜</td>\n",
       "      <td>小炒黄牛肉</td>\n",
       "      <td>68.0</td>\n",
       "      <td>1</td>\n",
       "      <td>87</td>\n",
       "    </tr>\n",
       "    <tr>\n",
       "      <th>2</th>\n",
       "      <td>3</td>\n",
       "      <td>1</td>\n",
       "      <td>荤菜</td>\n",
       "      <td>剁椒鱼头</td>\n",
       "      <td>96.0</td>\n",
       "      <td>1</td>\n",
       "      <td>92</td>\n",
       "    </tr>\n",
       "    <tr>\n",
       "      <th>3</th>\n",
       "      <td>4</td>\n",
       "      <td>1</td>\n",
       "      <td>荤菜</td>\n",
       "      <td>口味鸡</td>\n",
       "      <td>88.0</td>\n",
       "      <td>1</td>\n",
       "      <td>54</td>\n",
       "    </tr>\n",
       "    <tr>\n",
       "      <th>4</th>\n",
       "      <td>5</td>\n",
       "      <td>1</td>\n",
       "      <td>荤菜</td>\n",
       "      <td>烟笋炒腊肉</td>\n",
       "      <td>48.0</td>\n",
       "      <td>1</td>\n",
       "      <td>44</td>\n",
       "    </tr>\n",
       "  </tbody>\n",
       "</table>\n",
       "</div>"
      ],
      "text/plain": [
       "   0  1   2      3     4  5   6\n",
       "0  1  1  荤菜   辣椒炒肉  42.0  1  82\n",
       "1  2  1  荤菜  小炒黄牛肉  68.0  1  87\n",
       "2  3  1  荤菜   剁椒鱼头  96.0  1  92\n",
       "3  4  1  荤菜    口味鸡  88.0  1  54\n",
       "4  5  1  荤菜  烟笋炒腊肉  48.0  1  44"
      ]
     },
     "execution_count": 822,
     "metadata": {},
     "output_type": "execute_result"
    }
   ],
   "source": [
    "cnx, cursor = sql_tools.create_session_cursor()\n",
    "result = sql_tools.execute_fetchall(cursor, 'SELECT * from food ', tuple())\n",
    "result = pd.DataFrame(result)\n",
    "result.head()\n"
   ]
  },
  {
   "cell_type": "code",
   "execution_count": 823,
   "metadata": {},
   "outputs": [
    {
     "data": {
      "text/html": [
       "<div>\n",
       "<style scoped>\n",
       "    .dataframe tbody tr th:only-of-type {\n",
       "        vertical-align: middle;\n",
       "    }\n",
       "\n",
       "    .dataframe tbody tr th {\n",
       "        vertical-align: top;\n",
       "    }\n",
       "\n",
       "    .dataframe thead th {\n",
       "        text-align: right;\n",
       "    }\n",
       "</style>\n",
       "<table border=\"1\" class=\"dataframe\">\n",
       "  <thead>\n",
       "    <tr style=\"text-align: right;\">\n",
       "      <th></th>\n",
       "      <th>0</th>\n",
       "      <th>1</th>\n",
       "      <th>2</th>\n",
       "      <th>3</th>\n",
       "      <th>4</th>\n",
       "    </tr>\n",
       "  </thead>\n",
       "  <tbody>\n",
       "    <tr>\n",
       "      <th>0</th>\n",
       "      <td>1</td>\n",
       "      <td>1</td>\n",
       "      <td>1</td>\n",
       "      <td>2023-03-04 11:49:05</td>\n",
       "      <td>9</td>\n",
       "    </tr>\n",
       "    <tr>\n",
       "      <th>1</th>\n",
       "      <td>2</td>\n",
       "      <td>1</td>\n",
       "      <td>2</td>\n",
       "      <td>2023-03-15 18:31:36</td>\n",
       "      <td>4</td>\n",
       "    </tr>\n",
       "    <tr>\n",
       "      <th>2</th>\n",
       "      <td>3</td>\n",
       "      <td>1</td>\n",
       "      <td>3</td>\n",
       "      <td>2023-03-06 18:00:21</td>\n",
       "      <td>6</td>\n",
       "    </tr>\n",
       "    <tr>\n",
       "      <th>3</th>\n",
       "      <td>4</td>\n",
       "      <td>1</td>\n",
       "      <td>4</td>\n",
       "      <td>2023-03-09 11:09:10</td>\n",
       "      <td>10</td>\n",
       "    </tr>\n",
       "    <tr>\n",
       "      <th>4</th>\n",
       "      <td>5</td>\n",
       "      <td>1</td>\n",
       "      <td>5</td>\n",
       "      <td>2023-03-02 19:00:30</td>\n",
       "      <td>3</td>\n",
       "    </tr>\n",
       "  </tbody>\n",
       "</table>\n",
       "</div>"
      ],
      "text/plain": [
       "   0  1  2                   3   4\n",
       "0  1  1  1 2023-03-04 11:49:05   9\n",
       "1  2  1  2 2023-03-15 18:31:36   4\n",
       "2  3  1  3 2023-03-06 18:00:21   6\n",
       "3  4  1  4 2023-03-09 11:09:10  10\n",
       "4  5  1  5 2023-03-02 19:00:30   3"
      ]
     },
     "execution_count": 823,
     "metadata": {},
     "output_type": "execute_result"
    }
   ],
   "source": [
    "Order = sql_tools.execute_fetchall(cursor, 'SELECT * from `order`;', tuple())\n",
    "Order = pd.DataFrame(Order)\n",
    "Order.head()"
   ]
  },
  {
   "cell_type": "code",
   "execution_count": 824,
   "metadata": {},
   "outputs": [
    {
     "data": {
      "text/plain": [
       "600"
      ]
     },
     "execution_count": 824,
     "metadata": {},
     "output_type": "execute_result"
    }
   ],
   "source": [
    "#支持度=购买了A和B商品（集合G）的人数/所有购买过商品（集合U）的人数\n",
    "#Formula:   Support = The number of order inlude dish A and B / The number of orders in the restaurant\n",
    "\n",
    "#Restaurant 1\n",
    "Order_detail = sql_tools.execute_fetchall(cursor, 'SELECT * from `order` where RESTAURANT_ID=1', tuple())\n",
    "Order_detail = pd.DataFrame(Order_detail)\n",
    "\n",
    "Order_num=len(Order_detail.index)\n",
    "Order_num\n"
   ]
  },
  {
   "cell_type": "code",
   "execution_count": 825,
   "metadata": {},
   "outputs": [],
   "source": [
    "import numpy as np\n",
    "Dish_Relation= np.zeros((10, 10))\n",
    "Order_Count = np.zeros(10)\n",
    "for i in range(1,Order_num+1):\n",
    "    Temp = sql_tools.execute_fetchall(cursor, 'SELECT * from order_details where ORDER_ID=%s', tuple([i]))\n",
    "    Temp = pd.DataFrame(Temp)\n",
    "    for j in Temp[1].tolist():\n",
    "        Order_Count[j-1] += 1\n",
    "        for k in Temp[1].tolist():\n",
    "            Dish_Relation[j-1][k-1]+=1\n"
   ]
  },
  {
   "cell_type": "code",
   "execution_count": 826,
   "metadata": {},
   "outputs": [
    {
     "data": {
      "text/plain": [
       "array([[0.80833333, 0.47333333, 0.37      , 0.25833333, 0.48666667,\n",
       "        0.63166667, 0.505     , 0.28833333, 0.47833333, 0.685     ],\n",
       "       [0.47333333, 0.58833333, 0.26333333, 0.2       , 0.36      ,\n",
       "        0.46      , 0.35666667, 0.22666667, 0.35      , 0.49333333],\n",
       "       [0.37      , 0.26333333, 0.46      , 0.145     , 0.265     ,\n",
       "        0.365     , 0.27333333, 0.16333333, 0.275     , 0.38333333],\n",
       "       [0.25833333, 0.2       , 0.145     , 0.31333333, 0.17833333,\n",
       "        0.24833333, 0.185     , 0.11833333, 0.185     , 0.25166667],\n",
       "       [0.48666667, 0.36      , 0.265     , 0.17833333, 0.595     ,\n",
       "        0.48      , 0.38      , 0.21333333, 0.34833333, 0.5       ],\n",
       "       [0.63166667, 0.46      , 0.365     , 0.24833333, 0.48      ,\n",
       "        0.79333333, 0.485     , 0.27666667, 0.46833333, 0.67      ],\n",
       "       [0.505     , 0.35666667, 0.27333333, 0.185     , 0.38      ,\n",
       "        0.485     , 0.62166667, 0.22      , 0.38333333, 0.52166667],\n",
       "       [0.28833333, 0.22666667, 0.16333333, 0.11833333, 0.21333333,\n",
       "        0.27666667, 0.22      , 0.36333333, 0.215     , 0.29666667],\n",
       "       [0.47833333, 0.35      , 0.275     , 0.185     , 0.34833333,\n",
       "        0.46833333, 0.38333333, 0.215     , 0.595     , 0.505     ],\n",
       "       [0.685     , 0.49333333, 0.38333333, 0.25166667, 0.5       ,\n",
       "        0.67      , 0.52166667, 0.29666667, 0.505     , 0.83833333]])"
      ]
     },
     "execution_count": 826,
     "metadata": {},
     "output_type": "execute_result"
    }
   ],
   "source": [
    "Support_Matrix = Dish_Relation / Order_num\n",
    "Support_Matrix"
   ]
  },
  {
   "cell_type": "code",
   "execution_count": 827,
   "metadata": {},
   "outputs": [],
   "source": [
    "#满足比如支持度>0.6，置信度>0.6的这些商品组合才可以认为是有关联的，值得推荐的\n",
    "#支持度>0.6:\n",
    "#Dish 1 and Dish 6\n",
    "#Dish 1 and Dish 10\n",
    "#Dish 6 and Dish 10"
   ]
  },
  {
   "cell_type": "code",
   "execution_count": 828,
   "metadata": {},
   "outputs": [],
   "source": [
    "#置信度=购买了A和B商品（集合G）的人数/购买了A商品（集合A）的人数\n",
    "#Confidence of A = The number of order inlude dish A and B / The number of order include dish A\n",
    "\n",
    "Confidence_A =  Dish_Relation[0][5] / Order_Count[0]\n",
    "Confidence_B =  Dish_Relation[0][5] / Order_Count[5]\n",
    "\n",
    "#Confidence_A = 0.7814432989690722\n",
    "#Confidence_B = 0.7962184873949579\n",
    "#Dish 1 and Dish 6 is recommended"
   ]
  },
  {
   "cell_type": "code",
   "execution_count": 829,
   "metadata": {},
   "outputs": [],
   "source": [
    "Confidence_A =  Dish_Relation[0][9] / Order_Count[0]\n",
    "Confidence_B =  Dish_Relation[0][9] / Order_Count[9]\n",
    "\n",
    "#Confidence_A = 0.8474226804123711\n",
    "#Confidence_B = 0.8170974155069582\n",
    "#Dish 1 and Dish 10 is recommended"
   ]
  },
  {
   "cell_type": "code",
   "execution_count": 830,
   "metadata": {},
   "outputs": [],
   "source": [
    "Confidence_A =  Dish_Relation[5][9] / Order_Count[5]\n",
    "Confidence_B =  Dish_Relation[5][9] / Order_Count[9]\n",
    "\n",
    "#Confidence_A = 0.8445378151260504\n",
    "#Confidence_B = 0.7992047713717694\n",
    "#Dish 6 and Dish 10 is recommended"
   ]
  },
  {
   "cell_type": "code",
   "execution_count": 831,
   "metadata": {},
   "outputs": [
    {
     "data": {
      "text/plain": [
       "600"
      ]
     },
     "execution_count": 831,
     "metadata": {},
     "output_type": "execute_result"
    }
   ],
   "source": [
    "#Restaurant 2\n",
    "Order_detail = sql_tools.execute_fetchall(cursor, 'SELECT * from `order` where RESTAURANT_ID=2', tuple())\n",
    "Order_detail = pd.DataFrame(Order_detail)\n",
    "\n",
    "Order_num=len(Order_detail.index)\n",
    "Order_num"
   ]
  },
  {
   "cell_type": "code",
   "execution_count": 832,
   "metadata": {},
   "outputs": [],
   "source": [
    "import numpy as np\n",
    "Dish_Relation= np.zeros((10, 10))\n",
    "Order_Count = np.zeros(10)\n",
    "for i in range(601,1201):\n",
    "    Temp = sql_tools.execute_fetchall(cursor, 'SELECT * from order_details where ORDER_ID=%s', tuple([i]))\n",
    "    Temp = pd.DataFrame(Temp)\n",
    "    for j in Temp[1].tolist():\n",
    "        Order_Count[(j-1)%10] += 1\n",
    "        for k in Temp[1].tolist():\n",
    "            Dish_Relation[(j-1)%10][(k-1)%10]+=1\n",
    "\n",
    "    "
   ]
  },
  {
   "cell_type": "code",
   "execution_count": 833,
   "metadata": {},
   "outputs": [
    {
     "data": {
      "text/plain": [
       "array([[0.51166667, 0.34833333, 0.30333333, 0.40333333, 0.20666667,\n",
       "        0.215     , 0.36      , 0.45      , 0.28166667, 0.35      ],\n",
       "       [0.34833333, 0.69666667, 0.415     , 0.54333333, 0.26833333,\n",
       "        0.26166667, 0.51      , 0.62666667, 0.37666667, 0.47333333],\n",
       "       [0.30333333, 0.415     , 0.605     , 0.48666667, 0.23166667,\n",
       "        0.22666667, 0.41833333, 0.54833333, 0.32666667, 0.4       ],\n",
       "       [0.40333333, 0.54333333, 0.48666667, 0.785     , 0.29833333,\n",
       "        0.31333333, 0.53833333, 0.71166667, 0.41      , 0.54333333],\n",
       "       [0.20666667, 0.26833333, 0.23166667, 0.29833333, 0.38666667,\n",
       "        0.15666667, 0.27      , 0.34166667, 0.21      , 0.25333333],\n",
       "       [0.215     , 0.26166667, 0.22666667, 0.31333333, 0.15666667,\n",
       "        0.40166667, 0.29666667, 0.35833333, 0.225     , 0.27833333],\n",
       "       [0.36      , 0.51      , 0.41833333, 0.53833333, 0.27      ,\n",
       "        0.29666667, 0.695     , 0.63333333, 0.38333333, 0.48166667],\n",
       "       [0.45      , 0.62666667, 0.54833333, 0.71166667, 0.34166667,\n",
       "        0.35833333, 0.63333333, 0.90333333, 0.48333333, 0.61833333],\n",
       "       [0.28166667, 0.37666667, 0.32666667, 0.41      , 0.21      ,\n",
       "        0.225     , 0.38333333, 0.48333333, 0.545     , 0.35166667],\n",
       "       [0.35      , 0.47333333, 0.4       , 0.54333333, 0.25333333,\n",
       "        0.27833333, 0.48166667, 0.61833333, 0.35166667, 0.67833333]])"
      ]
     },
     "execution_count": 833,
     "metadata": {},
     "output_type": "execute_result"
    }
   ],
   "source": [
    "Support_Matrix = Dish_Relation / Order_num\n",
    "Support_Matrix"
   ]
  },
  {
   "cell_type": "code",
   "execution_count": 834,
   "metadata": {},
   "outputs": [],
   "source": [
    "#满足比如支持度>0.6，置信度>0.6的这些商品组合才可以认为是有关联的，值得推荐的\n",
    "#支持度>0.6:\n",
    "#Dish 2 and Dish 8\n",
    "#Dish 4 and Dish 8\n",
    "#Dish 7 and Dish 8\n",
    "#Dish 8 and Dish 10"
   ]
  },
  {
   "cell_type": "code",
   "execution_count": 835,
   "metadata": {},
   "outputs": [],
   "source": [
    "Confidence_A =  Dish_Relation[1][7] / Order_Count[1]\n",
    "Confidence_B =  Dish_Relation[1][7] / Order_Count[7]\n",
    "\n",
    "\n",
    "#Confidence_A = 0.8995215311004785\n",
    "#Confidence_B = 0.6937269372693727\n",
    "#Dish 2 and Dish 8 is recommended"
   ]
  },
  {
   "cell_type": "code",
   "execution_count": 836,
   "metadata": {},
   "outputs": [],
   "source": [
    "Confidence_A =  Dish_Relation[3][7] / Order_Count[3]\n",
    "Confidence_B =  Dish_Relation[3][7] / Order_Count[7]\n",
    "\n",
    "#Confidence_A = 0.9065817409766455\n",
    "#Confidence_B = 0.7878228782287823\n",
    "#Dish 4 and Dish 8 is recommended"
   ]
  },
  {
   "cell_type": "code",
   "execution_count": 837,
   "metadata": {},
   "outputs": [],
   "source": [
    "Confidence_A =  Dish_Relation[6][7] / Order_Count[6]\n",
    "Confidence_B =  Dish_Relation[6][7] / Order_Count[7]\n",
    "\n",
    "#Confidence_A = 0.9112709832134293\n",
    "#Confidence_B = 0.7011070110701108\n",
    "#Dish 7 and Dish 8 is recommended"
   ]
  },
  {
   "cell_type": "code",
   "execution_count": 838,
   "metadata": {},
   "outputs": [],
   "source": [
    "Confidence_A =  Dish_Relation[7][9] / Order_Count[7]\n",
    "Confidence_B =  Dish_Relation[7][9] / Order_Count[9]\n",
    "\n",
    "#Confidence_A = 0.6845018450184502\n",
    "#Confidence_B = 0.9115479115479116\n",
    "#Dish 8 and Dish 10 is recommended"
   ]
  },
  {
   "cell_type": "code",
   "execution_count": 839,
   "metadata": {},
   "outputs": [
    {
     "data": {
      "text/plain": [
       "600"
      ]
     },
     "execution_count": 839,
     "metadata": {},
     "output_type": "execute_result"
    }
   ],
   "source": [
    "#Restaurant 3\n",
    "Order_detail = sql_tools.execute_fetchall(cursor, 'SELECT * from `order` where RESTAURANT_ID=3', tuple())\n",
    "Order_detail = pd.DataFrame(Order_detail)\n",
    "\n",
    "Order_num=len(Order_detail.index)\n",
    "Order_num"
   ]
  },
  {
   "cell_type": "code",
   "execution_count": 840,
   "metadata": {},
   "outputs": [],
   "source": [
    "import numpy as np\n",
    "Dish_Relation= np.zeros((10, 10))\n",
    "Order_Count = np.zeros(10)\n",
    "for i in range(1201,1801):\n",
    "    Temp = sql_tools.execute_fetchall(cursor, 'SELECT * from order_details where ORDER_ID=%s', tuple([i]))\n",
    "    Temp = pd.DataFrame(Temp)\n",
    "    for j in Temp[1].tolist():\n",
    "        Order_Count[(j-1)%10] += 1\n",
    "        for k in Temp[1].tolist():\n",
    "            Dish_Relation[(j-1)%10][(k-1)%10]+=1"
   ]
  },
  {
   "cell_type": "code",
   "execution_count": 841,
   "metadata": {},
   "outputs": [
    {
     "data": {
      "text/plain": [
       "array([[0.81833333, 0.555     , 0.52666667, 0.42      , 0.32333333,\n",
       "        0.50833333, 0.405     , 0.64833333, 0.63666667, 0.48833333],\n",
       "       [0.555     , 0.66      , 0.43833333, 0.34833333, 0.26166667,\n",
       "        0.39666667, 0.32166667, 0.525     , 0.525     , 0.4       ],\n",
       "       [0.52666667, 0.43833333, 0.63666667, 0.33166667, 0.235     ,\n",
       "        0.40166667, 0.31666667, 0.49833333, 0.505     , 0.36666667],\n",
       "       [0.42      , 0.34833333, 0.33166667, 0.51666667, 0.18333333,\n",
       "        0.305     , 0.265     , 0.39833333, 0.38833333, 0.31333333],\n",
       "       [0.32333333, 0.26166667, 0.235     , 0.18333333, 0.39      ,\n",
       "        0.24166667, 0.19833333, 0.30666667, 0.31333333, 0.225     ],\n",
       "       [0.50833333, 0.39666667, 0.40166667, 0.305     , 0.24166667,\n",
       "        0.62      , 0.285     , 0.50166667, 0.47      , 0.35      ],\n",
       "       [0.405     , 0.32166667, 0.31666667, 0.265     , 0.19833333,\n",
       "        0.285     , 0.49833333, 0.39166667, 0.39333333, 0.30166667],\n",
       "       [0.64833333, 0.525     , 0.49833333, 0.39833333, 0.30666667,\n",
       "        0.50166667, 0.39166667, 0.79833333, 0.61166667, 0.465     ],\n",
       "       [0.63666667, 0.525     , 0.505     , 0.38833333, 0.31333333,\n",
       "        0.47      , 0.39333333, 0.61166667, 0.77833333, 0.47166667],\n",
       "       [0.48833333, 0.4       , 0.36666667, 0.31333333, 0.225     ,\n",
       "        0.35      , 0.30166667, 0.465     , 0.47166667, 0.58166667]])"
      ]
     },
     "execution_count": 841,
     "metadata": {},
     "output_type": "execute_result"
    }
   ],
   "source": [
    "Support_Matrix = Dish_Relation / Order_num\n",
    "Support_Matrix"
   ]
  },
  {
   "cell_type": "code",
   "execution_count": 842,
   "metadata": {},
   "outputs": [],
   "source": [
    "#满足比如支持度>0.6，置信度>0.6的这些商品组合才可以认为是有关联的，值得推荐的\n",
    "#支持度>0.6:\n",
    "#Dish 1 and Dish 8\n",
    "#Dish 1 and Dish 9\n",
    "#Dish 8 and Dish 9"
   ]
  },
  {
   "cell_type": "code",
   "execution_count": 843,
   "metadata": {},
   "outputs": [],
   "source": [
    "Confidence_A =  Dish_Relation[0][7] / Order_Count[0]\n",
    "Confidence_B =  Dish_Relation[0][7] / Order_Count[7]\n",
    "\n",
    "#Confidence_A = 0.7922606924643585\n",
    "#Confidence_B = 0.8121085594989561\n",
    "#Dish 1 and Dish 8 is recommended"
   ]
  },
  {
   "cell_type": "code",
   "execution_count": 844,
   "metadata": {},
   "outputs": [],
   "source": [
    "Confidence_A =  Dish_Relation[0][8] / Order_Count[0]\n",
    "Confidence_B =  Dish_Relation[0][8] / Order_Count[8]\n",
    "\n",
    "#Confidence_A = 0.7780040733197556\n",
    "#Confidence_B = 0.8179871520342612\n",
    "#Dish 1 and Dish 9 is recommended"
   ]
  },
  {
   "cell_type": "code",
   "execution_count": 845,
   "metadata": {},
   "outputs": [],
   "source": [
    "Confidence_A =  Dish_Relation[7][8] / Order_Count[7]\n",
    "Confidence_B =  Dish_Relation[7][8] / Order_Count[8]\n",
    "\n",
    "#Confidence_A = 0.7661795407098121\n",
    "#Confidence_B = 0.7858672376873662\n",
    "#Dish 8 and Dish 9 is recommended"
   ]
  },
  {
   "cell_type": "code",
   "execution_count": 846,
   "metadata": {},
   "outputs": [
    {
     "data": {
      "text/plain": [
       "600"
      ]
     },
     "execution_count": 846,
     "metadata": {},
     "output_type": "execute_result"
    }
   ],
   "source": [
    "#Restaurant 4\n",
    "Order_detail = sql_tools.execute_fetchall(cursor, 'SELECT * from `order` where RESTAURANT_ID=4', tuple())\n",
    "Order_detail = pd.DataFrame(Order_detail)\n",
    "\n",
    "Order_num=len(Order_detail.index)\n",
    "Order_num"
   ]
  },
  {
   "cell_type": "code",
   "execution_count": 847,
   "metadata": {},
   "outputs": [],
   "source": [
    "import numpy as np\n",
    "Dish_Relation= np.zeros((10, 10))\n",
    "Order_Count = np.zeros(10)\n",
    "for i in range(1801,2401):\n",
    "    Temp = sql_tools.execute_fetchall(cursor, 'SELECT * from order_details where ORDER_ID=%s', tuple([i]))\n",
    "    Temp = pd.DataFrame(Temp)\n",
    "    for j in Temp[1].tolist():\n",
    "        Order_Count[(j-1)%10] += 1\n",
    "        for k in Temp[1].tolist():\n",
    "            Dish_Relation[(j-1)%10][(k-1)%10]+=1"
   ]
  },
  {
   "cell_type": "code",
   "execution_count": 848,
   "metadata": {},
   "outputs": [
    {
     "data": {
      "text/plain": [
       "array([[0.6       , 0.46833333, 0.38333333, 0.44      , 0.27666667,\n",
       "        0.33      , 0.405     , 0.35666667, 0.46      , 0.30333333],\n",
       "       [0.46833333, 0.78333333, 0.475     , 0.57333333, 0.375     ,\n",
       "        0.39833333, 0.54      , 0.505     , 0.61666667, 0.40666667],\n",
       "       [0.38333333, 0.475     , 0.62666667, 0.44833333, 0.29833333,\n",
       "        0.315     , 0.43666667, 0.37833333, 0.47833333, 0.315     ],\n",
       "       [0.44      , 0.57333333, 0.44833333, 0.72      , 0.325     ,\n",
       "        0.36666667, 0.49666667, 0.44833333, 0.55166667, 0.35833333],\n",
       "       [0.27666667, 0.375     , 0.29833333, 0.325     , 0.48166667,\n",
       "        0.245     , 0.32333333, 0.29833333, 0.37666667, 0.26166667],\n",
       "       [0.33      , 0.39833333, 0.315     , 0.36666667, 0.245     ,\n",
       "        0.49833333, 0.35166667, 0.33      , 0.40166667, 0.24166667],\n",
       "       [0.405     , 0.54      , 0.43666667, 0.49666667, 0.32333333,\n",
       "        0.35166667, 0.695     , 0.455     , 0.54666667, 0.36333333],\n",
       "       [0.35666667, 0.505     , 0.37833333, 0.44833333, 0.29833333,\n",
       "        0.33      , 0.455     , 0.62333333, 0.49      , 0.32      ],\n",
       "       [0.46      , 0.61666667, 0.47833333, 0.55166667, 0.37666667,\n",
       "        0.40166667, 0.54666667, 0.49      , 0.77666667, 0.38833333],\n",
       "       [0.30333333, 0.40666667, 0.315     , 0.35833333, 0.26166667,\n",
       "        0.24166667, 0.36333333, 0.32      , 0.38833333, 0.51166667]])"
      ]
     },
     "execution_count": 848,
     "metadata": {},
     "output_type": "execute_result"
    }
   ],
   "source": [
    "Support_Matrix = Dish_Relation / Order_num\n",
    "Support_Matrix"
   ]
  },
  {
   "cell_type": "code",
   "execution_count": 849,
   "metadata": {},
   "outputs": [],
   "source": [
    "#满足比如支持度>0.6，置信度>0.6的这些商品组合才可以认为是有关联的，值得推荐的\n",
    "#支持度>0.6:\n",
    "#Dish 2 and Dish 9"
   ]
  },
  {
   "cell_type": "code",
   "execution_count": 850,
   "metadata": {},
   "outputs": [],
   "source": [
    "Confidence_A =  Dish_Relation[1][8] / Order_Count[1]\n",
    "Confidence_B =  Dish_Relation[1][8] / Order_Count[8]\n",
    "\n",
    "#Confidence_A = 0.7872340425531915\n",
    "#Confidence_B = 0.7939914163090128\n",
    "#Dish 2 and Dish 9 is recommended"
   ]
  },
  {
   "cell_type": "code",
   "execution_count": 851,
   "metadata": {},
   "outputs": [
    {
     "data": {
      "text/plain": [
       "600"
      ]
     },
     "execution_count": 851,
     "metadata": {},
     "output_type": "execute_result"
    }
   ],
   "source": [
    "#Restaurant 5\n",
    "Order_detail = sql_tools.execute_fetchall(cursor, 'SELECT * from `order` where RESTAURANT_ID=5', tuple())\n",
    "Order_detail = pd.DataFrame(Order_detail)\n",
    "\n",
    "Order_num=len(Order_detail.index)\n",
    "Order_num"
   ]
  },
  {
   "cell_type": "code",
   "execution_count": 852,
   "metadata": {},
   "outputs": [],
   "source": [
    "import numpy as np\n",
    "Dish_Relation= np.zeros((10, 10))\n",
    "Order_Count = np.zeros(10)\n",
    "for i in range(2401,3001):\n",
    "    Temp = sql_tools.execute_fetchall(cursor, 'SELECT * from order_details where ORDER_ID=%s', tuple([i]))\n",
    "    Temp = pd.DataFrame(Temp)\n",
    "    for j in Temp[1].tolist():\n",
    "        Order_Count[(j-1)%10] += 1\n",
    "        for k in Temp[1].tolist():\n",
    "            Dish_Relation[(j-1)%10][(k-1)%10]+=1"
   ]
  },
  {
   "cell_type": "code",
   "execution_count": 853,
   "metadata": {},
   "outputs": [
    {
     "data": {
      "text/plain": [
       "array([[0.77166667, 0.455     , 0.555     , 0.44833333, 0.465     ,\n",
       "        0.49833333, 0.62      , 0.48833333, 0.27      , 0.45666667],\n",
       "       [0.455     , 0.61      , 0.425     , 0.36      , 0.35833333,\n",
       "        0.375     , 0.48666667, 0.38833333, 0.21833333, 0.36      ],\n",
       "       [0.555     , 0.425     , 0.72166667, 0.425     , 0.43666667,\n",
       "        0.45      , 0.57833333, 0.45333333, 0.25666667, 0.40833333],\n",
       "       [0.44833333, 0.36      , 0.425     , 0.585     , 0.345     ,\n",
       "        0.34833333, 0.45833333, 0.37      , 0.215     , 0.33333333],\n",
       "       [0.465     , 0.35833333, 0.43666667, 0.345     , 0.59833333,\n",
       "        0.35833333, 0.47833333, 0.36666667, 0.21833333, 0.35      ],\n",
       "       [0.49833333, 0.375     , 0.45      , 0.34833333, 0.35833333,\n",
       "        0.61833333, 0.50166667, 0.38833333, 0.24333333, 0.37833333],\n",
       "       [0.62      , 0.48666667, 0.57833333, 0.45833333, 0.47833333,\n",
       "        0.50166667, 0.80166667, 0.49666667, 0.28333333, 0.45666667],\n",
       "       [0.48833333, 0.38833333, 0.45333333, 0.37      , 0.36666667,\n",
       "        0.38833333, 0.49666667, 0.62666667, 0.22833333, 0.35833333],\n",
       "       [0.27      , 0.21833333, 0.25666667, 0.215     , 0.21833333,\n",
       "        0.24333333, 0.28333333, 0.22833333, 0.36      , 0.19333333],\n",
       "       [0.45666667, 0.36      , 0.40833333, 0.33333333, 0.35      ,\n",
       "        0.37833333, 0.45666667, 0.35833333, 0.19333333, 0.57833333]])"
      ]
     },
     "execution_count": 853,
     "metadata": {},
     "output_type": "execute_result"
    }
   ],
   "source": [
    "Support_Matrix = Dish_Relation / Order_num\n",
    "Support_Matrix"
   ]
  },
  {
   "cell_type": "code",
   "execution_count": 854,
   "metadata": {},
   "outputs": [],
   "source": [
    "#满足比如支持度>0.6，置信度>0.6的这些商品组合才可以认为是有关联的，值得推荐的\n",
    "#支持度>0.6:\n",
    "#Dish 1 and Dish 7"
   ]
  },
  {
   "cell_type": "code",
   "execution_count": 855,
   "metadata": {},
   "outputs": [],
   "source": [
    "Confidence_A =  Dish_Relation[0][6] / Order_Count[0]\n",
    "Confidence_B =  Dish_Relation[0][6] / Order_Count[6]\n",
    "\n",
    "#Confidence_A = 0.8034557235421166\n",
    "#Confidence_B = 0.7733887733887734\n",
    "#Dish 1 and Dish 7 is recommended"
   ]
  }
 ],
 "metadata": {
  "kernelspec": {
   "display_name": "Python 3",
   "language": "python",
   "name": "python3"
  },
  "language_info": {
   "codemirror_mode": {
    "name": "ipython",
    "version": 3
   },
   "file_extension": ".py",
   "mimetype": "text/x-python",
   "name": "python",
   "nbconvert_exporter": "python",
   "pygments_lexer": "ipython3",
   "version": "3.9.16"
  },
  "orig_nbformat": 4
 },
 "nbformat": 4,
 "nbformat_minor": 2
}
